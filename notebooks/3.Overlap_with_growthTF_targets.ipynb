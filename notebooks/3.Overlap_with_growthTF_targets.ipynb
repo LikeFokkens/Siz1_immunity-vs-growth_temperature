{
 "cells": [
  {
   "cell_type": "markdown",
   "metadata": {},
   "source": [
    "## 3. Are genes that are DE in the mutant compared to the background involved in growth? \n",
    "\n",
    "We clustered the genes that are DE in time in the backrgound strain Pad4 and looked for functional enrichment in these clusters. We compared the genes that are differentially expressed in the mutant compared to this background and found that in general, the expression level of these genes is lower than in the background. \n",
    "\n",
    "Because we also observe a growth phenotype in the mutant, we now want to w=know whether the genes that are differentially expressed in the mutant compared to the background are involved in growth. For this, we determine whether the DE egenes are enriched for putative targets of key growth-regulators, specifically PIF4, but also BZR1 and ARF6."
   ]
  },
  {
   "cell_type": "code",
   "execution_count": 2,
   "metadata": {
    "collapsed": true
   },
   "outputs": [],
   "source": [
    "from matplotlib import pyplot as plt\n",
    "import numpy as np\n",
    "from matplotlib_venn import venn3, venn3_circles\n",
    "\n",
    "import sys\n",
    "import pandas as pd\n",
    "import statsmodels.api as sm\n",
    "import seaborn as sns\n",
    "from scipy import stats"
   ]
  },
  {
   "cell_type": "markdown",
   "metadata": {},
   "source": [
    "First we load the sets of putative targets of the three TFs and compare them:"
   ]
  },
  {
   "cell_type": "code",
   "execution_count": 3,
   "metadata": {
    "collapsed": false
   },
   "outputs": [
    {
     "data": {
      "image/png": "[encoded data removed]",
      "text/plain": [
       "<matplotlib.figure.Figure at 0x10f126050>"
      ]
     },
     "metadata": {},
     "output_type": "display_data"
    }
   ],
   "source": [
    "subset2color = {'PIF4': 'red', 'ARF6':'green', 'BZR1':'blue'}\n",
    "\n",
    "name_list   = ['BZR1', 'PIF4', 'ARF6'] # use same order as in paper\n",
    "subset_list = []\n",
    "label_list  = []\n",
    "color_list  = []\n",
    "for subset_name in name_list:\n",
    "    #copy-pasted from excel files, hence the split by '\\r'\n",
    "    subset = set([x.strip() for x in open(subset_name+'.txt').read().upper().split('\\r')]) \n",
    "    \n",
    "    subset_size = len(subset)\n",
    "    subset_list.append(subset)\n",
    "    color_list.append(subset2color[subset_name])\n",
    "    label_list.append(subset_name+' ('+str(subset_size)+')')\n",
    "    \n",
    "plt.figure(figsize=(4,4))\n",
    "venn = venn3(subset_list, set_labels = label_list, set_colors = color_list)\n",
    "\n",
    "    \n",
    "plt.show()"
   ]
  },
  {
   "cell_type": "markdown",
   "metadata": {},
   "source": [
    "Now, for the two mutants, we determine for each timepoint the amount of overlap with putative targets of one or more TFs. Hence we not only look at putative targets of one TF but also those that are shared by two or three TFs.\n",
    "We plot the percentages of overlap in a histogram with colors matching the Venn diagram."
   ]
  },
  {
   "cell_type": "code",
   "execution_count": null,
   "metadata": {
    "collapsed": true
   },
   "outputs": [],
   "source": [
    "#mapping from transcripts to probes (copied to 2.scatterplot_DEGs_mutant_vs_bkgr):\n",
    "import glob\n",
    "import pickle\n",
    "\n",
    "def homogenize_geneID(string):\n",
    "    return string.strip().upper().split('.')[0]\n",
    "\n",
    "\n",
    "# make dict with transcript_id --> probeset_id mapping\n",
    "def update_transcript2probe(fname, t2p, all_probes):\n",
    "    lines = open(fname).readlines()[1:]\n",
    "    for line in lines:\n",
    "        #print line\n",
    "        data        = line.strip().split('\\t')\n",
    "        probe       = int(data[0])\n",
    "        transcripts = [homogenize_geneID(x) for x in data[1].split(';')]\n",
    "        \n",
    "        for t in transcripts:\n",
    "            t2p[t] = probe\n",
    "            all_probes.add(probe)\n",
    "            \n",
    "    return t2p, all_probes\n",
    "\n",
    "dirnameStrains = 'data/reanalysisStrains/'\n",
    "transcript2probe = {}\n",
    "all_probes = set([])\n",
    "for fname in glob.glob(dirnameStrains+'*_vs_*.txt'):\n",
    "    transcript2probe, all_probes = update_transcript2probe(fname, transcript2probe, all_probes)\n",
    "    print len(transcript2probe.keys())\n",
    "    pickle.dump(transcript2probe, open('pickles/transcript2probes.pickled', 'w'))\n",
    "    pickle.dump(all_probes, open('pickles/all_probes_set.pickled', 'w'))\n",
    "    "
   ]
  },
  {
   "cell_type": "code",
   "execution_count": null,
   "metadata": {
    "collapsed": true
   },
   "outputs": [],
   "source": [
    "gene_list_combis = [['BZR1', 'regulated_by_BZR1'], ['BZR1', 'PIF4'], ['PIF4', 'regulated_by_PIF']]\n",
    "probesets_combis = []\n",
    "for gene_list in gene_list_combis:\n",
    "    subsets = []\n",
    "    for index, name_selection in enumerate(gene_list):\n",
    "        # get selected transcripts (e.g. TF targets)\n",
    "        subset = set([homogenize_geneID(x) for x in open('gene_lists/'+name_selection+'.txt', 'U')])\n",
    "\n",
    "        #convert these geneIDs to probeids\n",
    "        subset_probes = set([])\n",
    "        Nunknown = 0\n",
    "        for transcript_id in subset:\n",
    "            if transcript2probe.has_key(transcript_id):\n",
    "                subset_probes.add(transcript2probe[transcript_id]) \n",
    "        subsets.append(subset_probes)\n",
    "    probesets_combis.append(subsets)\n",
    "    \n",
    "                \n",
    "for mut in muts:\n",
    "    # collect all probes that are a DEG when comparing the mutant to the background\n",
    "    #for all timepoints\n",
    "    all_probes = set([])\n",
    "    for T in timepoints:\n",
    "        all_probes = all_probes.union(pickle.load(\\\n",
    "                    open(dirnameStrains+'pickles/'+T+'_'+bkgr+'_vs_'+mut+'.probes_as_set')))\n",
    "        print len(all_probes)\n",
    "    \n",
    "    for index, subset_names in enumerate(gene_list_combis):\n",
    "        probesets = [all_probes]+probesets_combis[index]\n",
    "        labels    = ['DEGs '+mut]+subset_names\n",
    "        \n",
    "        name = mut\n",
    "        for subset_name in subset_names:\n",
    "            name+=' '+subset_name\n",
    "        \n",
    "        plt.figure()\n",
    "        plt.title(name)\n",
    "        venn = venn3_unweighted(probesets, set_labels = labels)\n",
    "        plt.savefig('Pad4_NEW/Venn_diagrams/VENN_'+name.replace(' ', '-')+'.eps')\n",
    "        \n",
    "    "
   ]
  },
  {
   "cell_type": "code",
   "execution_count": null,
   "metadata": {
    "collapsed": true
   },
   "outputs": [],
   "source": [
    "gene_list_TFtargets = ['BZR1', 'PIF4', 'ARF6']\n",
    "probesets_TFtargets = []\n",
    "labels = []\n",
    "\n",
    "for index, name_selection in enumerate(gene_list_TFtargets):\n",
    "    # get selected transcripts (e.g. TF targets)\n",
    "    subset = set([homogenize_geneID(x) for x in open('gene_lists/'+name_selection+'.txt', 'U')])   \n",
    "    #convert these geneIDs to probeids\n",
    "    subset_probes = set([])\n",
    "    Nunknown = 0\n",
    "    for transcript_id in subset:\n",
    "        if transcript2probe.has_key(transcript_id):\n",
    "            subset_probes.add(transcript2probe[transcript_id]) \n",
    "    print name_selection, len(subset), 'genes,', len(subset_probes),'probes'\n",
    "    labels.append(name_selection+'\\n'+str(len(subset_probes)))\n",
    "    \n",
    "    probesets_TFtargets.append(subset_probes)\n",
    "\n",
    "name = ''\n",
    "for subset_name in gene_list_TFtargets:\n",
    "    name+=' '+subset_name\n",
    "\n",
    "plt.figure()\n",
    "plt.title(name)\n",
    "venn = venn3_unweighted(probesets_TFtargets, set_labels = labels)\n",
    "plt.savefig('Pad4_NEW/Venn_diagrams/VENN_'+name.replace(' ', '-')+'.eps')\n",
    "\n",
    "\n",
    "for mut in muts:\n",
    "    # collect all probes that are a DEG when comparing the mutant to the background\n",
    "    #for all timepoints\n",
    "    DEG_probes = set([])\n",
    "    for T in timepoints:\n",
    "        DEG_probes = DEG_probes.union(pickle.load(\\\n",
    "                    open(dirnameStrains+'pickles/'+T+'_'+bkgr+'_vs_'+mut+'.probes_as_set')))\n",
    "    print '*',len(DEG_probes), 'DEGs in all timepoints for', mut\n",
    "\n",
    "    intersected_probesets = []\n",
    "    labels = []\n",
    "    for TFidx, TFprobeset in enumerate(probesets_TFtargets):\n",
    "        labels.append(gene_list_TFtargets[TFidx]+'\\n'+str(len(TFprobeset.intersection(DEG_probes))))\n",
    "        print gene_list_TFtargets[TFidx], len(TFprobeset), len(TFprobeset.intersection(DEG_probes))\n",
    "        intersected_probesets.append(TFprobeset.intersection(DEG_probes))\n",
    "     \n",
    "\n",
    "    name = 'Intersection DEGs '+mut\n",
    "    plt.figure()\n",
    "    plt.title(name)\n",
    "    venn = venn3_unweighted(intersected_probesets, set_labels = labels)\n",
    "    plt.savefig('Pad4_NEW/Venn_diagrams/VENN_'+name.replace(' ', '-')+'.eps')\n",
    "    "
   ]
  }
 ],
 "metadata": {
  "kernelspec": {
   "display_name": "Python 2",
   "language": "python",
   "name": "python2"
  },
  "language_info": {
   "codemirror_mode": {
    "name": "ipython",
    "version": 2
   },
   "file_extension": ".py",
   "mimetype": "text/x-python",
   "name": "python",
   "nbconvert_exporter": "python",
   "pygments_lexer": "ipython2",
   "version": "2.7.13"
  }
 },
 "nbformat": 4,
 "nbformat_minor": 2
}
